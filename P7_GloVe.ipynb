{
  "nbformat": 4,
  "nbformat_minor": 0,
  "metadata": {
    "colab": {
      "provenance": []
    },
    "kernelspec": {
      "name": "python3",
      "display_name": "Python 3"
    },
    "language_info": {
      "name": "python"
    }
  },
  "cells": [
    {
      "cell_type": "code",
      "execution_count": null,
      "metadata": {
        "colab": {
          "base_uri": "https://localhost:8080/"
        },
        "id": "ymRNnwUPPxQA",
        "outputId": "13575f07-c108-4316-8913-002e0e6d8400"
      },
      "outputs": [
        {
          "output_type": "stream",
          "name": "stderr",
          "text": [
            "[nltk_data] Downloading package stopwords to /root/nltk_data...\n",
            "[nltk_data]   Package stopwords is already up-to-date!\n"
          ]
        },
        {
          "output_type": "execute_result",
          "data": {
            "text/plain": [
              "True"
            ]
          },
          "metadata": {},
          "execution_count": 3
        }
      ],
      "source": [
        "# Importer les bibliothèques nécessaires\n",
        "import gensim\n",
        "from gensim.models import KeyedVectors\n",
        "import numpy as np\n",
        "import matplotlib.pyplot as plt\n",
        "from sklearn.decomposition import PCA\n",
        "import nltk\n",
        "from nltk.corpus import stopwords\n",
        "from gensim.scripts.glove2word2vec import glove2word2vec\n",
        "nltk.download('stopwords')"
      ]
    },
    {
      "cell_type": "code",
      "source": [
        "# 1. Téléchargement et chargement du modèle GloVe\n",
        "# Assurez-vous d'avoir un fichier GloVe pré-entraîné (ex: glove.6B.50d.txt)\n",
        "glove_file = 'glove.6B.50d.txt'  # Remplacez par votre chemin\n",
        "word2vec_output_file = 'content'\n",
        "\n",
        "# Conversion du fichier GloVe en format Word2Vec\n",
        "print(\"Conversion du fichier GloVe en format Word2Vec...\")\n",
        "glove2word2vec(glove_file, word2vec_output_file)\n",
        "\n",
        "# Chargement du modèle GloVe converti\n",
        "print(\"Chargement du modèle...\")\n",
        "model = KeyedVectors.load_word2vec_format(word2vec_output_file, binary=False)\n",
        "print(\"Modèle chargé avec succès.\")"
      ],
      "metadata": {
        "colab": {
          "base_uri": "https://localhost:8080/"
        },
        "id": "jg_W9ruGP6W-",
        "outputId": "cf732b43-29af-476f-cae5-fc759d86ce56"
      },
      "execution_count": null,
      "outputs": [
        {
          "output_type": "stream",
          "name": "stdout",
          "text": [
            "Conversion du fichier GloVe en format Word2Vec...\n"
          ]
        },
        {
          "output_type": "stream",
          "name": "stderr",
          "text": [
            "<ipython-input-4-0a8192d77cd2>:8: DeprecationWarning: Call to deprecated `glove2word2vec` (KeyedVectors.load_word2vec_format(.., binary=False, no_header=True) loads GLoVE text vectors.).\n",
            "  glove2word2vec(glove_file, word2vec_output_file)\n"
          ]
        },
        {
          "output_type": "stream",
          "name": "stdout",
          "text": [
            "Chargement du modèle...\n",
            "Modèle chargé avec succès.\n"
          ]
        }
      ]
    },
    {
      "cell_type": "code",
      "source": [
        "# 2. Exploration du modèle GloVe\n",
        "# Affichage du vecteur pour un mot spécifique\n",
        "word = \"intelligence\"\n",
        "if word in model:\n",
        "    print(f\"Vecteur pour le mot '{word}':\\n\", model[word])\n",
        "else:\n",
        "    print(f\"Le mot '{word}' n'est pas présent dans le vocabulaire du modèle.\")\n",
        "\n",
        "# Recherche des mots similaires\n",
        "print(\"\\nMots similaires à 'intelligence':\")\n",
        "similar_words = model.most_similar('intelligence', topn=5)\n",
        "for similar_word, similarity in similar_words:\n",
        "    print(f\"{similar_word}: {similarity:.4f}\")"
      ],
      "metadata": {
        "colab": {
          "base_uri": "https://localhost:8080/"
        },
        "id": "x2qCyWRwfd2x",
        "outputId": "70b2b8ca-0809-4134-d108-834abfe07e43"
      },
      "execution_count": null,
      "outputs": [
        {
          "output_type": "stream",
          "name": "stdout",
          "text": [
            "Vecteur pour le mot 'intelligence':\n",
            " [ 0.8782    -0.45171    0.96737    0.040347   0.76235   -0.63825\n",
            "  0.18944   -0.26633    0.58874   -0.93608   -0.065201   0.5123\n",
            " -0.69111    0.52807   -0.71195   -0.2834    -0.34591    0.014351\n",
            "  0.11763    0.59407    0.20703    0.69087    1.0855    -0.83158\n",
            " -0.35967   -2.3939    -0.88375   -0.417     -0.36717    0.58897\n",
            "  2.4132    -0.74281   -0.3619    -1.9934     0.093133   0.86592\n",
            " -0.75185    0.19073   -0.54284   -0.0084839  0.57554    0.4475\n",
            "  0.48515    0.054866   0.35842   -0.51698   -0.026014   1.9907\n",
            " -0.11378    0.30127  ]\n",
            "\n",
            "Mots similaires à 'intelligence':\n",
            "cia: 0.7884\n",
            "pentagon: 0.7842\n",
            "information: 0.7707\n",
            "fbi: 0.7704\n",
            "military: 0.7667\n"
          ]
        }
      ]
    },
    {
      "cell_type": "code",
      "source": [
        "# 3. Visualisation des vecteurs\n",
        "# Sélection de quelques mots pour la visualisation\n",
        "words = [\"intelligence\", \"artificielle\", \"apprentissage\", \"profond\", \"neurone\", \"domaine\", \"application\", \"representation\"]\n",
        "valid_words = [word for word in words if word in model]\n",
        "word_vectors = np.array([model[word] for word in valid_words])\n",
        "\n",
        "# Réduction de dimension avec PCA\n",
        "pca = PCA(n_components=2)\n",
        "reduced_vectors = pca.fit_transform(word_vectors)\n",
        "\n",
        "# Visualisation avec matplotlib\n",
        "plt.figure(figsize=(10, 6))\n",
        "for i, word in enumerate(valid_words):\n",
        "    if word in model:\n",
        "        plt.scatter(reduced_vectors[i, 0], reduced_vectors[i, 1])\n",
        "        plt.annotate(word, (reduced_vectors[i, 0], reduced_vectors[i, 1]))\n",
        "plt.title(\"Visualisation des vecteurs GloVe avec PCA\")\n",
        "plt.xlabel(\"PCA 1\")\n",
        "plt.ylabel(\"PCA 2\")\n",
        "plt.show()"
      ],
      "metadata": {
        "colab": {
          "base_uri": "https://localhost:8080/",
          "height": 518
        },
        "id": "1YVuxhUzfgDb",
        "outputId": "ce1d5ebe-10be-4703-c399-993b4dcb2018"
      },
      "execution_count": null,
      "outputs": [
        {
          "output_type": "display_data",
          "data": {
            "text/plain": [
              "<Figure size 1000x600 with 1 Axes>"
            ],
            "image/png": "[encoded data removed]"
          },
          "metadata": {}
        }
      ]
    }
  ]
}