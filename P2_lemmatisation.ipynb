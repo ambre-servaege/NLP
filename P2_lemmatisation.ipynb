{
  "nbformat": 4,
  "nbformat_minor": 0,
  "metadata": {
    "colab": {
      "provenance": []
    },
    "kernelspec": {
      "name": "python3",
      "display_name": "Python 3"
    },
    "language_info": {
      "name": "python"
    }
  },
  "cells": [
    {
      "cell_type": "code",
      "execution_count": null,
      "metadata": {
        "colab": {
          "base_uri": "https://localhost:8080/"
        },
        "id": "UWHzLMtvbpLl",
        "outputId": "f86cbc8f-ae79-4098-fdf9-e3d3002b9d3a"
      },
      "outputs": [
        {
          "output_type": "stream",
          "name": "stdout",
          "text": [
            "Mot : the, Lemme : the\n",
            "Mot : children, Lemme : child\n",
            "Mot : were, Lemme : be\n",
            "Mot : playing, Lemme : play\n",
            "Mot : in, Lemme : in\n",
            "Mot : the, Lemme : the\n",
            "Mot : garden, Lemme : garden\n",
            "Mot : while, Lemme : while\n",
            "Mot : their, Lemme : their\n",
            "Mot : parents, Lemme : parent\n",
            "Mot : were, Lemme : be\n",
            "Mot : talking, Lemme : talk\n"
          ]
        }
      ],
      "source": [
        "import spacy\n",
        "nlp = spacy.load(\"en_core_web_sm\") #importer en anglais\n",
        "\n",
        "\n",
        "def display_lemmatization(text):\n",
        "    doc = nlp(text)\n",
        "    for token in doc:\n",
        "        print(f\"Mot : {token.text}, Lemme : {token.lemma_}\")\n",
        "\n",
        "text = \"the children were playing in the garden while their parents were talking\"\n",
        "display_lemmatization(text)"
      ]
    },
    {
      "cell_type": "code",
      "source": [
        "user_text = input(\"entrer ici une phrase ou un texte à lemmatiser :\")"
      ],
      "metadata": {
        "colab": {
          "base_uri": "https://localhost:8080/"
        },
        "id": "8pCzGIoJjP1V",
        "outputId": "404ee8f2-833b-47b5-d7a0-5cacf0d9e1b0"
      },
      "execution_count": null,
      "outputs": [
        {
          "name": "stdout",
          "output_type": "stream",
          "text": [
            "entrer ici une phrase ou un texte à lemmatiser :je joue au foot\n"
          ]
        }
      ]
    },
    {
      "cell_type": "code",
      "source": [
        "import pandas as pd\n",
        "\n",
        "def lemmatization_dataframe(text):\n",
        "    doc = nlp(text)\n",
        "    data = {\n",
        "        \"Mot\": [token.text for token in doc],\n",
        "        \"Lemme\": [token.lemma_ for token in doc],\n",
        "        \"POS\": [token.pos_ for token in doc],  # Part of Speech\n",
        "    }\n",
        "    return pd.DataFrame(data)\n",
        "\n",
        "# Exemple d'utilisation\n",
        "text = \"Running and swimming are great for health.\"\n",
        "df = lemmatization_dataframe(text)\n",
        "\n",
        "# Afficher le DataFrame\n",
        "print(df)"
      ],
      "metadata": {
        "colab": {
          "base_uri": "https://localhost:8080/"
        },
        "id": "u2iNPN8DdnLb",
        "outputId": "8e4d2c9a-4aa7-45b4-8ae0-afe29d378c79"
      },
      "execution_count": null,
      "outputs": [
        {
          "output_type": "stream",
          "name": "stdout",
          "text": [
            "        Mot     Lemme    POS\n",
            "0   Running       run   VERB\n",
            "1       and       and  CCONJ\n",
            "2  swimming  swimming   NOUN\n",
            "3       are        be    AUX\n",
            "4     great     great    ADJ\n",
            "5       for       for    ADP\n",
            "6    health    health   NOUN\n",
            "7         .         .  PUNCT\n"
          ]
        }
      ]
    },
    {
      "cell_type": "code",
      "source": [],
      "metadata": {
        "id": "8ezAPo6IjhZi"
      },
      "execution_count": null,
      "outputs": []
    }
  ]
}